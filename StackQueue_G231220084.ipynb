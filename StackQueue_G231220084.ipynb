{
  "nbformat": 4,
  "nbformat_minor": 0,
  "metadata": {
    "colab": {
      "provenance": []
    },
    "kernelspec": {
      "name": "python3",
      "display_name": "Python 3"
    },
    "language_info": {
      "name": "python"
    }
  },
  "cells": [
    {
      "cell_type": "markdown",
      "source": [
        "**Insannul Imam Rohny Khoirri (G.231.22.0084)**"
      ],
      "metadata": {
        "id": "eAR0WWgc5fR1"
      }
    },
    {
      "cell_type": "code",
      "execution_count": 1,
      "metadata": {
        "colab": {
          "base_uri": "https://localhost:8080/"
        },
        "id": "p6bGi-4ApZSH",
        "outputId": "3ea5b1ab-3171-4f7f-cbe1-d0b816d2e103"
      },
      "outputs": [
        {
          "output_type": "stream",
          "name": "stdout",
          "text": [
            "deque(['Ram', 'Tarun', 'Asif', 'John'])\n",
            "deque(['Ram', 'Tarun', 'Asif', 'John', 'Akbar'])\n",
            "deque(['Ram', 'Tarun', 'Asif', 'John', 'Akbar', 'Birbal'])\n",
            "Ram\n",
            "Tarun\n",
            "deque(['Asif', 'John', 'Akbar', 'Birbal'])\n"
          ]
        }
      ],
      "source": [
        "from collections import deque\n",
        "queue = deque ([\"Ram\", \"Tarun\", \"Asif\", \"John\"])\n",
        "print (queue)\n",
        "queue.append(\"Akbar\")\n",
        "print (queue)\n",
        "queue.append(\"Birbal\")\n",
        "print (queue)\n",
        "print (queue.popleft())\n",
        "print (queue.popleft())\n",
        "print (queue)"
      ]
    },
    {
      "cell_type": "markdown",
      "source": [
        "**Algoritma Tower of Hanoi**\n",
        "\n",
        "\n",
        "1. Fungsi TowerOfHanoi menerima input n yang merupakan jumlah cakram yang ingin dipindahkan dari tiang awal (from_rod) ke tiang tujuan (to_rod) dengan bantuan tiang bantu (aux_rod).\n",
        "2. Jika n sama dengan 0, tidak ada yang perlu dilakukan, sehingga fungsi berhenti (return).\n",
        "3. Untuk memindahkan n cakram:\n",
        "* Panggil rekursif TowerOfHanoi dengan parameter n - 1, memindahkan cakram dari tiang awal ke tiang bantu.\n",
        "\n",
        "* Cetak langkah pemindahan cakram n dari tiang awal ke tiang tujuan.\n",
        "\n",
        "* Panggil rekursif TowerOfHanoi lagi dengan parameter n - 1, memindahkan cakram dari tiang bantu ke tiang tujuan.\n",
        "Algoritma untuk Mengurutkan Dalam Sebuah Stack"
      ],
      "metadata": {
        "id": "0y5g7wIO2-h3"
      }
    },
    {
      "cell_type": "code",
      "source": [
        "def TowerOfHanoi(n, from_rod, to_rod, aux_rod):\n",
        "    if n == 0:\n",
        "        return\n",
        "\n",
        "    TowerOfHanoi(n - 1, from_rod, aux_rod, to_rod)\n",
        "    print(\"Move disk\", n, \"from\", from_rod, \"to\", to_rod)\n",
        "    TowerOfHanoi(n - 1, aux_rod, to_rod, from_rod)"
      ],
      "metadata": {
        "id": "VaiNBsWT2-A4"
      },
      "execution_count": 7,
      "outputs": []
    },
    {
      "cell_type": "code",
      "source": [
        "# Driver code\n",
        "N = 3\n",
        "\n",
        "# A, C, B adalah nama-nama tiang\n",
        "TowerOfHanoi(N, 'A', 'C', 'B')"
      ],
      "metadata": {
        "colab": {
          "base_uri": "https://localhost:8080/"
        },
        "id": "-POh3UHb31tN",
        "outputId": "0ac3eb2e-240e-4242-a799-1fe8acd7e82d"
      },
      "execution_count": 6,
      "outputs": [
        {
          "output_type": "stream",
          "name": "stdout",
          "text": [
            "Move disk 1 from A to C\n",
            "Move disk 2 from A to B\n",
            "Move disk 1 from C to B\n",
            "Move disk 3 from A to C\n",
            "Move disk 1 from B to A\n",
            "Move disk 2 from B to C\n",
            "Move disk 1 from A to C\n"
          ]
        }
      ]
    },
    {
      "cell_type": "markdown",
      "source": [
        "**Algoritma untuk Mengurutkan Dalam Sebuah Stack**\n",
        "\n",
        "1. Fungsi sortStack menerima input dalam bentuk stack (input) yang berisi angka-angka yang ingin diurutkan secara menurun.\n",
        "\n",
        "2. Buat stack sementara (tmp) untuk menyimpan nilai sementara.\n",
        "\n",
        "3. Selama stack input tidak kosong:\n",
        "\n",
        "* Ambil elemen teratas dari stack input.\n",
        "\n",
        "* Selama stack sementara tidak kosong dan nilai teratas dari stack sementara lebih kecil dari nilai saat ini, pindahkan elemen dari stack sementara ke stack input.\n",
        "\n",
        "* Tambahkan nilai saat ini ke stack sementara.\n",
        "\n",
        "4. Kembalikan stack sementara yang berisi nilai-nilai yang telah diurutkan secara menurun."
      ],
      "metadata": {
        "id": "uRbyITqJ32nE"
      }
    },
    {
      "cell_type": "markdown",
      "source": [
        "**Mengurutkan dalam sebuah stack**"
      ],
      "metadata": {
        "id": "w_V2oON3vxZB"
      }
    },
    {
      "cell_type": "code",
      "source": [
        "def sortStack(input):\n",
        "    tmp = []\n",
        "    while len(input) > 0:\n",
        "        current = input.pop()\n",
        "\n",
        "        # Selama stack sementara tidak kosong dan nilai teratas dari stack sementara lebih kecil dari nilai saat ini\n",
        "        while len(tmp) > 0 and tmp[-1] < current:\n",
        "            input.append(tmp.pop())\n",
        "\n",
        "        # Tambahkan nilai saat ini ke stack sementara\n",
        "        tmp.append(current)\n",
        "\n",
        "    return tmp"
      ],
      "metadata": {
        "id": "Fd6mbV8o339E"
      },
      "execution_count": 10,
      "outputs": []
    },
    {
      "cell_type": "markdown",
      "source": [
        "**Algoritma untuk Mengurutkan Array Menggunakan Stack**\n",
        "\n",
        "1. Fungsi sortArrayUsingStacks menerima array (arr) yang ingin diurutkan dan panjang array (n).\n",
        "2. Tambahkan elemen-elemen array ke dalam stack (input).\n",
        "3. Urutkan stack menggunakan fungsi sortStack yang telah dijelaskan sebelumnya.\n",
        "4. Ambil nilai-nilai teratas dari stack sementara dan masukkan ke dalam array awal.\n",
        "5. Kembalikan array yang telah diurutka"
      ],
      "metadata": {
        "id": "0lxpsoU94Z1I"
      }
    },
    {
      "cell_type": "code",
      "source": [
        "def sortArrayUsingStacks(arr, n):\n",
        "\n",
        "    # Tambahkan elemen-elemen array ke dalam stack\n",
        "    input = []\n",
        "    i = 0\n",
        "    while i < n:\n",
        "        input.append(arr[i])\n",
        "        i += 1\n",
        "\n",
        "    # Urutkan stack sementara\n",
        "    tmp = sortStack(input)\n",
        "    i = 0\n",
        "\n",
        "    # Masukkan elemen-elemen stack ke dalam array\n",
        "    while i < n:\n",
        "        arr[i] = tmp.pop()\n",
        "        i += 1\n",
        "    return arr"
      ],
      "metadata": {
        "id": "dESEH91p42oT"
      },
      "execution_count": 9,
      "outputs": []
    },
    {
      "cell_type": "markdown",
      "source": [
        "**Eksekusi**\n",
        "1. Terdapat array [10, 5, 15, 45] yang ingin diurutkan secara menurun.\n",
        "\n",
        "2. Panggil sortArrayUsingStacks untuk mengurutkan array tersebut.\n",
        "\n",
        "3. Tampilkan hasil pengurutan dengan mencetak nilai-nilai dari array."
      ],
      "metadata": {
        "id": "JzgRIyoV4mHK"
      }
    },
    {
      "cell_type": "code",
      "source": [
        "# Driver code untuk mengurutkan array menggunakan stack\n",
        "arr = [10, 5, 15, 45]\n",
        "n = len(arr)\n",
        "\n",
        "arr = sortArrayUsingStacks(arr, n)\n",
        "i = 0\n",
        "\n",
        "while i < n:\n",
        "    print(arr[i], end=\" \")\n",
        "    i += 1\n"
      ],
      "metadata": {
        "colab": {
          "base_uri": "https://localhost:8080/"
        },
        "id": "TlqSbu5m45GH",
        "outputId": "c262ef37-f552-45f5-b1dc-97e6de36c814"
      },
      "execution_count": 14,
      "outputs": [
        {
          "output_type": "stream",
          "name": "stdout",
          "text": [
            "5 10 15 45 "
          ]
        }
      ]
    }
  ]
}