{
  "nbformat": 4,
  "nbformat_minor": 0,
  "metadata": {
    "colab": {
      "provenance": []
    },
    "kernelspec": {
      "name": "python3",
      "display_name": "Python 3"
    },
    "language_info": {
      "name": "python"
    }
  },
  "cells": [
    {
      "cell_type": "markdown",
      "source": [
        "Insannul Imam Rohny Khoirri (G231220084)"
      ],
      "metadata": {
        "id": "OgOzeileqawk"
      }
    },
    {
      "cell_type": "markdown",
      "source": [
        "Python program for implementation of Bubble Sort"
      ],
      "metadata": {
        "id": "h-hJJkgTW39Z"
      }
    },
    {
      "cell_type": "code",
      "execution_count": 1,
      "metadata": {
        "id": "b6Dk1s0hUHSq"
      },
      "outputs": [],
      "source": [
        "def bubbleSort(arr):\n",
        "   n = len(arr)\n",
        "   swapped = False\n",
        "\n",
        "   for i in range(n-1):\n",
        "    for j in range(0, n-i-1):\n",
        "      if arr[j] > arr[j + 1]:\n",
        "       swapped = True\n",
        "       arr[j], arr[j + 1] = arr[j + 1], arr[j]"
      ]
    },
    {
      "cell_type": "code",
      "source": [
        "arr = [64, 34, 25, 12, 22, 11, 90]\n",
        "bubbleSort(arr)\n",
        "print(\"Sorted array is:\")\n",
        "for i in range(len(arr)):\n",
        " print(\"% d\" % arr[i], end=\" \")"
      ],
      "metadata": {
        "colab": {
          "base_uri": "https://localhost:8080/"
        },
        "id": "Z4qeA9pZWDAL",
        "outputId": "c4a8cde1-3d3a-4531-9f7c-dc1022a86f4a"
      },
      "execution_count": 2,
      "outputs": [
        {
          "output_type": "stream",
          "name": "stdout",
          "text": [
            "Sorted array is:\n",
            " 11  12  22  25  34  64  90 "
          ]
        }
      ]
    },
    {
      "cell_type": "code",
      "source": [
        "import sys\n",
        "A = [64, 25, 12, 22, 11]\n",
        "for i in range(len(A)):\n",
        " min_idx = i\n",
        " for j in range(i+1, len(A)):\n",
        "   if A[min_idx] > A[j]:\n",
        "     min_idx = j\n",
        "\n",
        " A[i], A[min_idx] = A[min_idx], A[i]\n",
        "print (\"Sorted array\")\n",
        "for i in range(len(A)):\n",
        " print(\"%d\" %A[i],end=\" \")"
      ],
      "metadata": {
        "colab": {
          "base_uri": "https://localhost:8080/"
        },
        "id": "C6oeXpGPVdWa",
        "outputId": "06f90bba-6068-4af9-bf02-53a3d2f1edb8"
      },
      "execution_count": 3,
      "outputs": [
        {
          "output_type": "stream",
          "name": "stdout",
          "text": [
            "Sorted array\n",
            "11 12 22 25 64 "
          ]
        }
      ]
    },
    {
      "cell_type": "code",
      "source": [
        "def insertionSort(arr):\n",
        "\n",
        "  for i in range(1, len(arr)):\n",
        "    key = arr[i]\n",
        "    j = i-1\n",
        "  while j >= 0 and key < arr[j] :\n",
        "    arr[j + 1] = arr[j]\n",
        "    j -= 1\n",
        "  arr[j + 1] = key"
      ],
      "metadata": {
        "id": "EIdTwwsGWJ7A"
      },
      "execution_count": 4,
      "outputs": []
    },
    {
      "cell_type": "code",
      "source": [
        "arr = [12, 11, 13, 5, 6]\n",
        "insertionSort(arr)\n",
        "for i in range(len(arr)):\n",
        " print (\"% d\" % arr[i])"
      ],
      "metadata": {
        "colab": {
          "base_uri": "https://localhost:8080/"
        },
        "id": "axcvvnkBWS34",
        "outputId": "15a52c13-c5ea-45e5-f005-f9ea756c66e0"
      },
      "execution_count": 5,
      "outputs": [
        {
          "output_type": "stream",
          "name": "stdout",
          "text": [
            " 12\n",
            " 11\n",
            " 13\n",
            " 5\n",
            " 6\n"
          ]
        }
      ]
    },
    {
      "cell_type": "markdown",
      "source": [
        "BUBBLE SORT"
      ],
      "metadata": {
        "id": "nRFToAvOcZRe"
      }
    },
    {
      "cell_type": "code",
      "source": [
        "def bubbleSort(arr):\n",
        "\tn = len(arr)\n",
        "\n",
        "\t# Traverse through all array elements\n",
        "\tfor i in range(n):\n",
        "\t\tswapped = False\n",
        "\n",
        "\t\t# Last i elements are already in place\n",
        "\t\tfor j in range(0, n-i-1):\n",
        "\n",
        "\t\t\t# Traverse the array from 0 to n-i-1\n",
        "\t\t\t# Swap if the element found is greater\n",
        "\t\t\t# than the next element\n",
        "\t\t\tif arr[j] > arr[j+1]:\n",
        "\t\t\t\tarr[j], arr[j+1] = arr[j+1], arr[j]\n",
        "\t\t\t\tswapped = True\n",
        "\t\tif (swapped == False):\n",
        "\t\t\tbreak\n",
        "\n",
        "\n",
        "# Driver code to test above\n",
        "if __name__ == \"__main__\":\n",
        "\tarr = [64, 34, 25, 12, 22, 11, 80]\n",
        "\n",
        "\tbubbleSort(arr)\n",
        "\n",
        "\tprint(\"Sorted array:\")\n",
        "\tfor i in range(len(arr)):\n",
        "\t\tprint(\"%d\" % arr[i], end=\" \")"
      ],
      "metadata": {
        "colab": {
          "base_uri": "https://localhost:8080/"
        },
        "id": "gaAlt3V_alO2",
        "outputId": "96f0e6bc-aa06-44b1-b07f-16e7e2dc0048"
      },
      "execution_count": 6,
      "outputs": [
        {
          "output_type": "stream",
          "name": "stdout",
          "text": [
            "Sorted array:\n",
            "11 12 22 25 34 64 80 "
          ]
        }
      ]
    },
    {
      "cell_type": "markdown",
      "source": [
        "SELECTION SORT"
      ],
      "metadata": {
        "id": "GjM1krVIbnJu"
      }
    },
    {
      "cell_type": "code",
      "source": [
        "import sys\n",
        "A = [64, 25, 12, 22, 11]\n",
        "\n",
        "# Traverse through all array elements\n",
        "for i in range(len(A)):\n",
        "\n",
        "\t# Find the minimum element in remaining\n",
        "\t# unsorted array\n",
        "\tmin_idx = i\n",
        "\tfor j in range(i+1, len(A)):\n",
        "\t\tif A[min_idx] > A[j]:\n",
        "\t\t\tmin_idx = j\n",
        "\n",
        "\t# Swap the found minimum element with\n",
        "\t# the first element\n",
        "\tA[i], A[min_idx] = A[min_idx], A[i]\n",
        "\n",
        "# Driver code to test above\n",
        "print (\"Sorted array\")\n",
        "for i in range(len(A)):\n",
        "\tprint(\"%d\" %A[i],end=\" , \")\n"
      ],
      "metadata": {
        "colab": {
          "base_uri": "https://localhost:8080/"
        },
        "id": "ET5ImOEgbLjw",
        "outputId": "5608a9b8-763a-4579-d6c7-e77e373bbfda"
      },
      "execution_count": 7,
      "outputs": [
        {
          "output_type": "stream",
          "name": "stdout",
          "text": [
            "Sorted array\n",
            "11 , 12 , 22 , 25 , 64 , "
          ]
        }
      ]
    },
    {
      "cell_type": "markdown",
      "source": [
        "INSERTION SORT\n",
        "\n"
      ],
      "metadata": {
        "id": "P2fExCxGbvnl"
      }
    },
    {
      "cell_type": "code",
      "source": [
        "def insertionSort(arr):\n",
        "\n",
        "\t# Traverse through 1 to len(arr)\n",
        "\tfor i in range(1, len(arr)):\n",
        "\n",
        "\t\tkey = arr[i]\n",
        "\n",
        "\t\t# Move elements of arr[0..i-1], that are\n",
        "\t\t# greater than key, to one position ahead\n",
        "\t\t# of their current position\n",
        "\t\tj = i-1\n",
        "\t\twhile j >= 0 and key < arr[j] :\n",
        "\t\t\t\tarr[j + 1] = arr[j]\n",
        "\t\t\t\tj -= 1\n",
        "\t\tarr[j + 1] = key\n",
        "\n",
        "\n",
        "# Driver code to test above\n",
        "arr = [12, 11, 13, 5, 6]\n",
        "insertionSort(arr)\n",
        "for i in range(len(arr)):\n",
        "\tprint (\"% d\" % arr[i])"
      ],
      "metadata": {
        "colab": {
          "base_uri": "https://localhost:8080/"
        },
        "id": "aZGoxW6hcJN4",
        "outputId": "00a86bc3-fafb-411e-e74e-344c1fd88d16"
      },
      "execution_count": 8,
      "outputs": [
        {
          "output_type": "stream",
          "name": "stdout",
          "text": [
            " 5\n",
            " 6\n",
            " 11\n",
            " 12\n",
            " 13\n"
          ]
        }
      ]
    }
  ]
}