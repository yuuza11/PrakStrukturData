{
  "nbformat": 4,
  "nbformat_minor": 0,
  "metadata": {
    "colab": {
      "provenance": []
    },
    "kernelspec": {
      "name": "python3",
      "display_name": "Python 3"
    },
    "language_info": {
      "name": "python"
    }
  },
  "cells": [
    {
      "cell_type": "markdown",
      "source": [
        "Insannul Imam Rohny Khoirri (G.231.22.0084)"
      ],
      "metadata": {
        "id": "0qnPSWhmXIyV"
      }
    },
    {
      "cell_type": "markdown",
      "source": [
        "**INORDER**"
      ],
      "metadata": {
        "id": "ooY5bQU_XTZN"
      }
    },
    {
      "cell_type": "code",
      "execution_count": 2,
      "metadata": {
        "colab": {
          "base_uri": "https://localhost:8080/"
        },
        "id": "jDqaOsGgW8PI",
        "outputId": "c5ece30b-bde1-4f1c-d5a3-6948cf42eea6"
      },
      "outputs": [
        {
          "output_type": "stream",
          "name": "stdout",
          "text": [
            "\n",
            "Inorder traversal of binary tree is\n",
            "4\n",
            "2\n",
            "5\n",
            "1\n",
            "3\n"
          ]
        }
      ],
      "source": [
        "# Inorder\n",
        "class Node:\n",
        "    def __init__(self, key):\n",
        "        self.left = None\n",
        "        self.right = None\n",
        "        self.val = key\n",
        "\n",
        "def printInorder(root):\n",
        "    if root:\n",
        "        printInorder(root.left)\n",
        "\n",
        "        print(root.val),\n",
        "\n",
        "        printInorder(root.right)\n",
        "\n",
        "if __name__ == \"__main__\":\n",
        "    root = Node(1)\n",
        "    root.left = Node(2)\n",
        "    root.right = Node(3)\n",
        "    root.left.left = Node(4)\n",
        "    root.left.right = Node(5)\n",
        "\n",
        "    print (\"\\nInorder traversal of binary tree is\")\n",
        "    printInorder(root)"
      ]
    },
    {
      "cell_type": "markdown",
      "source": [
        "**PREORDER**"
      ],
      "metadata": {
        "id": "qbrEs8RBYfvN"
      }
    },
    {
      "cell_type": "code",
      "source": [
        "# Preorder\n",
        "class Node:\n",
        "    def __init__(self, key):\n",
        "        self.left = None\n",
        "        self.right = None\n",
        "        self.val = key\n",
        "\n",
        "def printPreorder(root):\n",
        "    if root:\n",
        "       print(root.val, end=\" \")\n",
        "\n",
        "       printPreorder(root.left)\n",
        "\n",
        "       printPreorder(root.right)\n",
        "\n",
        "if __name__ == \"__main__\":\n",
        "    root = Node(1)\n",
        "    root.left = Node(2)\n",
        "    root.right = Node(3)\n",
        "    root.left.left = Node(4)\n",
        "    root.left.right = Node(5)\n",
        "\n",
        "    print(\"Preorder Traversal of binary tree is\")\n",
        "    printPreorder(root)"
      ],
      "metadata": {
        "colab": {
          "base_uri": "https://localhost:8080/"
        },
        "id": "oyhfYybkYh37",
        "outputId": "ea8cddd5-40a3-4e7b-ef07-36e8ef7dbfc7"
      },
      "execution_count": 3,
      "outputs": [
        {
          "output_type": "stream",
          "name": "stdout",
          "text": [
            "Preorder Traversal of binary tree is\n",
            "1 2 4 5 3 "
          ]
        }
      ]
    },
    {
      "cell_type": "markdown",
      "source": [
        "**POSTORDER**"
      ],
      "metadata": {
        "id": "7zYo01SEY04Z"
      }
    },
    {
      "cell_type": "code",
      "source": [
        "# Postorder\n",
        "class Node:\n",
        "    def __init__(self, key):\n",
        "        self.left = None\n",
        "        self.right = None\n",
        "        self.val = key\n",
        "\n",
        "def printPostorder(root):\n",
        "    if root:\n",
        "        printPostorder(root.left)\n",
        "\n",
        "        printPostorder(root.right)\n",
        "\n",
        "        print(root.val, end=\" \")\n",
        "\n",
        "if __name__ == \"__main__\":\n",
        "    root = Node(1)\n",
        "    root.left = Node(2)\n",
        "    root.right = Node(3)\n",
        "    root.left.left = Node(4)\n",
        "    root.left.right = Node(5)\n",
        "\n",
        "    print(\"\\nPostorder traversal of binary tree is\")\n",
        "    printPostorder(root)"
      ],
      "metadata": {
        "colab": {
          "base_uri": "https://localhost:8080/"
        },
        "id": "174VfsOXY29R",
        "outputId": "b26dcb07-6523-46f9-aee5-f836104a9902"
      },
      "execution_count": 4,
      "outputs": [
        {
          "output_type": "stream",
          "name": "stdout",
          "text": [
            "\n",
            "Postorder traversal of binary tree is\n",
            "4 5 2 3 1 "
          ]
        }
      ]
    }
  ]
}