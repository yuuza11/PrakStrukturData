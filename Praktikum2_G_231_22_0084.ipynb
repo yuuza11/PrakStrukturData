{
  "nbformat": 4,
  "nbformat_minor": 0,
  "metadata": {
    "colab": {
      "provenance": []
    },
    "kernelspec": {
      "name": "python3",
      "display_name": "Python 3"
    },
    "language_info": {
      "name": "python"
    }
  },
  "cells": [
    {
      "cell_type": "code",
      "execution_count": 1,
      "metadata": {
        "colab": {
          "base_uri": "https://localhost:8080/"
        },
        "id": "ta7Ldp3qK3sK",
        "outputId": "d61abc46-ab29-4221-f8ae-81503a56bf74"
      },
      "outputs": [
        {
          "output_type": "stream",
          "name": "stdout",
          "text": [
            "[1, 5, 4, 2, 8, 10, 3]\n",
            "[1, 2, 4, 5, 8, 10, 3]\n",
            "[1, 2, 3, 5, 8, 10, 4]\n",
            "[1, 2, 3, 4, 8, 10, 5]\n",
            "[1, 2, 3, 4, 5, 10, 8]\n",
            "[1, 2, 3, 4, 5, 8, 10]\n",
            "[1, 2, 3, 4, 5, 8, 10]\n"
          ]
        }
      ],
      "source": [
        "def selectionSort(alist):\n",
        "  for slot in range(0,len(alist)-1):\n",
        "    position=slot\n",
        "    for location in range(slot+1,len(alist)):\n",
        "      if alist[location]<alist[position]:\n",
        "               position = location\n",
        "\n",
        "    temp = alist[slot]\n",
        "    alist[slot] = alist[position]\n",
        "    alist[position] = temp\n",
        "    print(alist)\n",
        "angka = [5,1,4,2,8,10,3]\n",
        "selectionSort(angka)\n",
        "print(angka)"
      ]
    },
    {
      "cell_type": "code",
      "source": [
        "def insertionSort(arr):\n",
        "\tn = len(arr) # Dapatkan panjang array\n",
        "\n",
        "\tif n <= 1:\n",
        "\t\treturn # Jika array memiliki 0 atau 1 elemen, maka array sudah diurutkan, jadi kembalikan\n",
        "\n",
        "\tfor i in range(1, n): # Ulangi array mulai dari elemen kedua\n",
        "\t\tkey = arr[i] # Simpan elemen saat ini sebagai kunci untuk dimasukkan pada posisi yang tepat\n",
        "\t\tj = i-1\n",
        "\t\twhile j >= 0 and key < arr[j]: # Pindahkan elemen yang lebih besar dari kunci satu posisi ke depan\n",
        "\t\t\tarr[j+1] = arr[j] # Geser elemen ke kanan\n",
        "\t\t\tj -= 1\n",
        "\t\tarr[j+1] = key # Masukkan kunci pada posisi yang benar\n",
        "\n",
        "# Mengurutkan array [12, 11, 13, 5, 6] menggunakan insertionSort\n",
        "arr = [12, 11, 13, 5, 6]\n",
        "insertionSort(arr)\n",
        "print(arr)"
      ],
      "metadata": {
        "colab": {
          "base_uri": "https://localhost:8080/"
        },
        "id": "v2KpO1UWN5EE",
        "outputId": "bd844944-00c8-4485-9f25-55d44fa66ff7"
      },
      "execution_count": 2,
      "outputs": [
        {
          "output_type": "stream",
          "name": "stdout",
          "text": [
            "[5, 6, 11, 12, 13]\n"
          ]
        }
      ]
    },
    {
      "cell_type": "code",
      "source": [
        "def selectionSort(array, size):\n",
        "\n",
        "    for ind in range(size):\n",
        "        min_index = ind\n",
        "\n",
        "        for j in range(ind + 1, size):\n",
        "            # pilih elemen minimum di setiap iterasi\n",
        "            if array[j] < array[min_index]:\n",
        "                min_index = j\n",
        "         # menukar elemen untuk mengurutkan array\n",
        "        (array[ind], array[min_index]) = (array[min_index], array[ind])\n",
        "\n",
        "arr = [-2, 45, 0, 11, -9,88,-97,-202,747]\n",
        "size = len(arr)\n",
        "selectionSort(arr, size)\n",
        "print('Array setelah diurutkan dalam Ascending Order berdasarkan pengurutan pilihan adalah:')\n",
        "print(arr)"
      ],
      "metadata": {
        "colab": {
          "base_uri": "https://localhost:8080/"
        },
        "id": "4a47tn4VN9BY",
        "outputId": "00b1542a-60f4-4e79-c339-f50a87d5add8"
      },
      "execution_count": 3,
      "outputs": [
        {
          "output_type": "stream",
          "name": "stdout",
          "text": [
            "Array setelah diurutkan dalam Ascending Order berdasarkan pengurutan pilihan adalah:\n",
            "[-202, -97, -9, -2, 0, 11, 45, 88, 747]\n"
          ]
        }
      ]
    },
    {
      "cell_type": "markdown",
      "source": [
        "Akses Nilai Tuple"
      ],
      "metadata": {
        "id": "y86Vn2kW9gIh"
      }
    },
    {
      "cell_type": "code",
      "source": [
        "tup1 = ('Keychron', 'Noir', 2019, 2020)\n",
        "tup2 = (11, 12, 13, 14, 15, 16, 17 )\n",
        "\n",
        "print('tup1[0] adalah : ', tup1[0])\n",
        "print('tup2[0:4] adalah : ', tup2[0:4])"
      ],
      "metadata": {
        "colab": {
          "base_uri": "https://localhost:8080/"
        },
        "id": "wLGVuW299gB3",
        "outputId": "dc5ba7df-1ed3-4256-f310-77bd5f58ba5f"
      },
      "execution_count": 13,
      "outputs": [
        {
          "output_type": "stream",
          "name": "stdout",
          "text": [
            "tup1[0] adalah :  Keychron\n",
            "tup2[0:4] adalah :  (11, 12, 13, 14)\n"
          ]
        }
      ]
    },
    {
      "cell_type": "markdown",
      "source": [
        "Update Nilai Tuple"
      ],
      "metadata": {
        "id": "eehixmcg-cSp"
      }
    },
    {
      "cell_type": "code",
      "source": [
        "tup1 = (98, 76, 54)\n",
        "tup2 = ('Vortex', 'Rexus')\n",
        "\n",
        "tup3 = tup1 + tup2\n",
        "print(tup3)"
      ],
      "metadata": {
        "colab": {
          "base_uri": "https://localhost:8080/"
        },
        "id": "x-XBymmI-eOL",
        "outputId": "a04a9fc6-9ba9-4c74-dedf-6e2b44416ede"
      },
      "execution_count": 15,
      "outputs": [
        {
          "output_type": "stream",
          "name": "stdout",
          "text": [
            "(98, 76, 54, 'Vortex', 'Rexus')\n"
          ]
        }
      ]
    },
    {
      "cell_type": "markdown",
      "source": [
        "Hapus Nilai Tuple"
      ],
      "metadata": {
        "id": "81lVpDxm-6Fs"
      }
    },
    {
      "cell_type": "code",
      "source": [
        "tup = ('Ducky', 'Akko', 2021, 2022)\n",
        "print(tup)\n",
        "\n",
        "del tup\n",
        "\n",
        "tup = ('Gateron', 'Afflion', 7288)\n",
        "print('Setelah menghapus tup jadi : ', tup)"
      ],
      "metadata": {
        "colab": {
          "base_uri": "https://localhost:8080/"
        },
        "id": "-DbLWIgj-9-W",
        "outputId": "fe1513c3-ea13-41ff-f593-c02328cd6404"
      },
      "execution_count": 16,
      "outputs": [
        {
          "output_type": "stream",
          "name": "stdout",
          "text": [
            "('Ducky', 'Akko', 2021, 2022)\n",
            "Setelah menghapus tup jadi :  ('Gateron', 'Afflion', 7288)\n"
          ]
        }
      ]
    },
    {
      "cell_type": "markdown",
      "source": [
        "Penggunaan Dictionary"
      ],
      "metadata": {
        "id": "2I4jeX1h6eTK"
      }
    },
    {
      "cell_type": "code",
      "source": [
        "#Contoh cara membuat Dictionary pada Python\n",
        "\n",
        "dict = {'Nama': 'Abdul', 'Umur': 19, 'Prodi': 'TI'}\n",
        "print (\"Nama Saya\", dict['Nama'])\n",
        "print (\"Saya berumur\", dict['Umur'])\n",
        "print (\"Saya di prodi\", dict['Prodi'])"
      ],
      "metadata": {
        "colab": {
          "base_uri": "https://localhost:8080/"
        },
        "id": "Ce5B8uZv6eEK",
        "outputId": "8deb6b3f-1053-40d5-cd4c-705ab32ac2d0"
      },
      "execution_count": 10,
      "outputs": [
        {
          "output_type": "stream",
          "name": "stdout",
          "text": [
            "Nama Saya Abdul\n",
            "Saya berumur 19\n",
            "Saya di prodi TI\n"
          ]
        }
      ]
    }
  ]
}