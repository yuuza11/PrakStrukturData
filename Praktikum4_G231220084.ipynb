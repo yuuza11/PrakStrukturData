{
  "nbformat": 4,
  "nbformat_minor": 0,
  "metadata": {
    "colab": {
      "provenance": []
    },
    "kernelspec": {
      "name": "python3",
      "display_name": "Python 3"
    },
    "language_info": {
      "name": "python"
    }
  },
  "cells": [
    {
      "cell_type": "markdown",
      "source": [
        "Insannul Imam Rohny Khoirri (G.231.22.0084)"
      ],
      "metadata": {
        "id": "ywEA0Xsc6W_j"
      }
    },
    {
      "cell_type": "code",
      "execution_count": 2,
      "metadata": {
        "colab": {
          "base_uri": "https://localhost:8080/"
        },
        "id": "vUAmO8-L5m--",
        "outputId": "47b4bec8-d20b-4bf4-9103-b67d6c8ef9eb"
      },
      "outputs": [
        {
          "output_type": "stream",
          "name": "stdout",
          "text": [
            "\"The quick brown fox jumps over the little lazy dog\"\n",
            "\n",
            "is a pangram\n"
          ]
        }
      ],
      "source": [
        "# A Python Program to check if the given\n",
        "# string is a pangram or not\n",
        "\n",
        "\n",
        "def checkPangram(s):\n",
        "    List = []\n",
        "# create list of 26 characters and set false each entry\n",
        "    for i in range(26):\n",
        "        List.append(False)\n",
        "\n",
        "    # converting the sentence to lowercase and iterating\n",
        "    # over the sentence\n",
        "    for c in s.lower():\n",
        "        if not c == \" \":\n",
        "\n",
        "            # make the corresponding entry True\n",
        "            List[ord(c) - ord('a')] = True\n",
        "\n",
        "    # check if any character is missing then return False\n",
        "    for ch in List:\n",
        "        if ch == False:\n",
        "            return False\n",
        "    return True\n",
        "\n",
        "\n",
        "# Driver Program to test above functions\n",
        "sentence = \"The quick brown fox jumps over the little lazy dog\"\n",
        "\n",
        "if (checkPangram(sentence)):\n",
        "    print('\"'+sentence+'\"')\n",
        "    print(\"\\nis a pangram\")\n",
        "else:\n",
        "    print('\"'+sentence+'\"')\n",
        "    print(\"\\nis not a pangram\")"
      ]
    },
    {
      "cell_type": "code",
      "source": [
        "def cekPangram(s):\n",
        "    # Buat list dari 26 karakter dan setiap entri menjadi False\n",
        "    List = [False] * 26\n",
        "\n",
        "    # Konversi kalimat menjadi huruf kecil dan iterasikan\n",
        "    for c in s.lower():\n",
        "        if c.isalpha():  # Periksa apakah karakter adalah huruf\n",
        "            # Set entri yang sesuai menjadi True\n",
        "            List[ord(c) - ord('a')] = True\n",
        "\n",
        "    # Periksa apakah ada karakter yang hilang, kemudian kembalikan False\n",
        "    if False in List:\n",
        "        return False\n",
        "    return True\n",
        "\n",
        "# Program Utama untuk menguji fungsi di atas\n",
        "kalimat = \"Balonku ada lima, rupa rupa warnanya\"\n",
        "\n",
        "if cekPangram(kalimat):\n",
        "    print(f'\"{kalimat}\"')\n",
        "    print(\"\\nadalah pangram\")\n",
        "else:\n",
        "    print(f'\"{kalimat}\"')\n",
        "    print(\"\\nbukan pangram\")\n"
      ],
      "metadata": {
        "colab": {
          "base_uri": "https://localhost:8080/"
        },
        "id": "0lXdYlTt6zvK",
        "outputId": "ccf9f19d-ae92-4df3-db19-069109d74b3b"
      },
      "execution_count": 9,
      "outputs": [
        {
          "output_type": "stream",
          "name": "stdout",
          "text": [
            "\"Balonku ada lima, rupa rupa warnanya\"\n",
            "\n",
            "bukan pangram\n"
          ]
        }
      ]
    }
  ]
}
